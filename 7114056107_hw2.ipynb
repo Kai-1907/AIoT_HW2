# src/modeling.py
import pandas as pd
import numpy as np
import statsmodels.api as sm
import matplotlib.pyplot as plt
from sklearn.model_selection import train_test_split
from sklearn.preprocessing import StandardScaler
from sklearn.linear_model import LinearRegression
from sklearn.metrics import mean_squared_error, r2_score

# 載入資料
df = pd.read_csv('data/cs-training.csv')
df = df.drop(columns=['Unnamed: 0'], errors='ignore')

# 缺值處理
df['MonthlyIncome'].fillna(df['MonthlyIncome'].median(), inplace=True)
df['NumberOfDependents'].fillna(df['NumberOfDependents'].median(), inplace=True)

X = df.drop('SeriousDlqin2yrs', axis=1)
y = df['SeriousDlqin2yrs']

# 標準化
scaler = StandardScaler()
X_scaled = scaler.fit_transform(X)

# 訓練/測試集
X_train, X_test, y_train, y_test = train_test_split(X_scaled, y, test_size=0.2, random_state=42)

# 建立線性回歸模型
model = LinearRegression()
model.fit(X_train, y_train)
y_pred = model.predict(X_test)

# 模型評估
mse = mean_squared_error(y_test, y_pred)
r2 = r2_score(y_test, y_pred)

print(f"MSE: {mse:.4f}")
print(f"R²: {r2:.4f}")

# 預測區間估計
pred_df = pd.DataFrame({'actual': y_test, 'predicted': y_pred})
pred_df = pred_df.sort_values(by='actual')

plt.figure(figsize=(8,6))
plt.plot(pred_df['actual'].values, label='Actual', color='blue')
plt.plot(pred_df['predicted'].values, label='Predicted', color='red')
plt.fill_between(range(len(pred_df)), 
                 pred_df['predicted'] - 1.96*np.std(y_pred),
                 pred_df['predicted'] + 1.96*np.std(y_pred),
                 color='gray', alpha=0.2, label='95% Confidence Interval')
plt.legend()
plt.title("Prediction with 95% Confidence Interval")
plt.xlabel("Samples")
plt.ylabel("Credit Risk (Probability)")
plt.tight_layout()
plt.savefig('outputs/prediction_plot.png', dpi=300)
plt.show()

